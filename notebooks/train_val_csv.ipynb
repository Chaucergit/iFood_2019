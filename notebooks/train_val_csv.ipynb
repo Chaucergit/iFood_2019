{
 "cells": [
  {
   "cell_type": "code",
   "execution_count": 1,
   "metadata": {},
   "outputs": [],
   "source": [
    "#importing required packages\n",
    "import pandas as pd\n",
    "from tqdm import tqdm"
   ]
  },
  {
   "cell_type": "code",
   "execution_count": 2,
   "metadata": {},
   "outputs": [
    {
     "name": "stderr",
     "output_type": "stream",
     "text": [
      "  0%|          | 0/11994 [00:00<?, ?it/s]/home/omkar-c/anaconda3/envs/video_platform/lib/python3.6/site-packages/ipykernel_launcher.py:8: SettingWithCopyWarning: \n",
      "A value is trying to be set on a copy of a slice from a DataFrame\n",
      "\n",
      "See the caveats in the documentation: http://pandas.pydata.org/pandas-docs/stable/indexing.html#indexing-view-versus-copy\n",
      "  \n",
      "/home/omkar-c/anaconda3/envs/video_platform/lib/python3.6/site-packages/pandas/core/indexing.py:189: SettingWithCopyWarning: \n",
      "A value is trying to be set on a copy of a slice from a DataFrame\n",
      "\n",
      "See the caveats in the documentation: http://pandas.pydata.org/pandas-docs/stable/indexing.html#indexing-view-versus-copy\n",
      "  self._setitem_with_indexer(indexer, value)\n",
      "100%|██████████| 11994/11994 [00:02<00:00, 5015.63it/s]\n"
     ]
    }
   ],
   "source": [
    "#creating val csv in the form of <ImageID,ClassID.ClassName>\n",
    "val = pd.read_csv(\"./val_info.csv\")\n",
    "annot = pd.read_csv(\"./class_list.txt\",delim_whitespace=True,index_col='ClassID')\n",
    "for i in tqdm(range(len(val))):\n",
    "    id = val[\"ClassID\"][i]\n",
    "    name = annot.loc[id][\"ClassName\"]\n",
    "    name = str(id)+'.'+name\n",
    "    val[\"ClassID\"][i] = name"
   ]
  },
  {
   "cell_type": "code",
   "execution_count": 3,
   "metadata": {},
   "outputs": [
    {
     "name": "stderr",
     "output_type": "stream",
     "text": [
      "  0%|          | 0/118475 [00:00<?, ?it/s]/home/omkar-c/anaconda3/envs/video_platform/lib/python3.6/site-packages/ipykernel_launcher.py:8: SettingWithCopyWarning: \n",
      "A value is trying to be set on a copy of a slice from a DataFrame\n",
      "\n",
      "See the caveats in the documentation: http://pandas.pydata.org/pandas-docs/stable/indexing.html#indexing-view-versus-copy\n",
      "  \n",
      "100%|██████████| 118475/118475 [01:03<00:00, 1854.37it/s]\n"
     ]
    }
   ],
   "source": [
    "#creating train csv in the form of <ImageID,ClassID.ClassName>\n",
    "train = pd.read_csv(\"./train_info.csv\")\n",
    "annot = pd.read_csv(\"./class_list.txt\",delim_whitespace=True,index_col='ClassID')\n",
    "for i in tqdm(range(len(train))):\n",
    "    id = train[\"ClassID\"][i]\n",
    "    name = annot.loc[id][\"ClassName\"]\n",
    "    name = str(id)+'.'+name\n",
    "    train[\"ClassID\"][i] = name"
   ]
  },
  {
   "cell_type": "code",
   "execution_count": 4,
   "metadata": {},
   "outputs": [],
   "source": [
    "#saving the dataframes to csv\n",
    "val.to_csv(\"./val_info_v2.csv\",index=False)\n",
    "train.to_csv(\"./train_info_v2.csv\",index=False)"
   ]
  }
 ],
 "metadata": {
  "kernelspec": {
   "display_name": "Python 3",
   "language": "python",
   "name": "python3"
  },
  "language_info": {
   "codemirror_mode": {
    "name": "ipython",
    "version": 3
   },
   "file_extension": ".py",
   "mimetype": "text/x-python",
   "name": "python",
   "nbconvert_exporter": "python",
   "pygments_lexer": "ipython3",
   "version": "3.6.8"
  }
 },
 "nbformat": 4,
 "nbformat_minor": 2
}
