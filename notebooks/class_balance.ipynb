{
 "cells": [
  {
   "cell_type": "code",
   "execution_count": 1,
   "metadata": {},
   "outputs": [],
   "source": [
    "#importing required packages\n",
    "import pandas as pd\n",
    "from tqdm import tqdm"
   ]
  },
  {
   "cell_type": "code",
   "execution_count": 2,
   "metadata": {},
   "outputs": [],
   "source": [
    "#reading train csv\n",
    "train = pd.read_csv(\"./train_info.csv\")\n",
    "annot = pd.read_csv(\"./class_list.txt\",delim_whitespace=True,index_col='ClassID')"
   ]
  },
  {
   "cell_type": "code",
   "execution_count": 3,
   "metadata": {},
   "outputs": [],
   "source": [
    "count = train[\"ClassID\"].value_counts()\n",
    "count_df = count.to_frame()\n",
    "count_df.rename(columns = {\"ClassID\":\"Count\"},inplace=True)\n",
    "count_df.index.rename(\"ClassID\",inplace=True)\n",
    "count_df = count_df.reset_index()"
   ]
  },
  {
   "cell_type": "code",
   "execution_count": 4,
   "metadata": {},
   "outputs": [
    {
     "name": "stderr",
     "output_type": "stream",
     "text": [
      "  0%|          | 0/251 [00:00<?, ?it/s]/home/omkar-c/anaconda3/envs/video_platform/lib/python3.6/site-packages/ipykernel_launcher.py:4: SettingWithCopyWarning: \n",
      "A value is trying to be set on a copy of a slice from a DataFrame\n",
      "\n",
      "See the caveats in the documentation: http://pandas.pydata.org/pandas-docs/stable/indexing.html#indexing-view-versus-copy\n",
      "  after removing the cwd from sys.path.\n",
      "100%|██████████| 251/251 [00:03<00:00, 68.88it/s]\n"
     ]
    }
   ],
   "source": [
    "for i in tqdm(range(len(count_df))):\n",
    "    id = count_df[\"ClassID\"][i]\n",
    "    name = annot.loc[id][\"ClassName\"]\n",
    "    count_df[\"ClassID\"][i] = name"
   ]
  },
  {
   "cell_type": "code",
   "execution_count": 5,
   "metadata": {},
   "outputs": [],
   "source": [
    "count_df.to_csv(\"./class_balance.csv\",index=False)"
   ]
  }
 ],
 "metadata": {
  "kernelspec": {
   "display_name": "Python 3",
   "language": "python",
   "name": "python3"
  },
  "language_info": {
   "codemirror_mode": {
    "name": "ipython",
    "version": 3
   },
   "file_extension": ".py",
   "mimetype": "text/x-python",
   "name": "python",
   "nbconvert_exporter": "python",
   "pygments_lexer": "ipython3",
   "version": "3.6.8"
  }
 },
 "nbformat": 4,
 "nbformat_minor": 2
}
